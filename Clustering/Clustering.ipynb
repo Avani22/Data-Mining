{
  "nbformat": 4,
  "nbformat_minor": 0,
  "metadata": {
    "celltoolbar": "Raw Cell Format",
    "kernelspec": {
      "display_name": "Python 3",
      "language": "python",
      "name": "python3"
    },
    "language_info": {
      "codemirror_mode": {
        "name": "ipython",
        "version": 3
      },
      "file_extension": ".py",
      "mimetype": "text/x-python",
      "name": "python",
      "nbconvert_exporter": "python",
      "pygments_lexer": "ipython3",
      "version": "3.7.3"
    },
    "colab": {
      "name": "Clustering.ipynb",
      "provenance": []
    }
  },
  "cells": [
    {
      "cell_type": "markdown",
      "metadata": {
        "id": "rbzxtB8dV6os",
        "colab_type": "text"
      },
      "source": [
        "# Programming Assignment # 4 Clustering"
      ]
    },
    {
      "cell_type": "markdown",
      "metadata": {
        "id": "-1ynW2BxV6ot",
        "colab_type": "text"
      },
      "source": [
        "## Student Details"
      ]
    },
    {
      "cell_type": "markdown",
      "metadata": {
        "id": "H9_emWKdV6ou",
        "colab_type": "text"
      },
      "source": [
        "When submitting, fill your full name, your student ID and your NetID in this cell. Note that this is a markdown cell! \n",
        "\n",
        "Student Full Name: Avani Chandorkar\n",
        "\n",
        "ID: 1001668554\n"
      ]
    },
    {
      "cell_type": "markdown",
      "metadata": {
        "id": "Qtwt4fF-V6ou",
        "colab_type": "text"
      },
      "source": [
        "## Rules"
      ]
    },
    {
      "cell_type": "markdown",
      "metadata": {
        "id": "2kWcG0spV6ov",
        "colab_type": "text"
      },
      "source": [
        "1. Work is to be done individually.\n",
        "2. Any cheating including plagiarism, cooperation will be reported to the corresponding UTA’ s instance.\n",
        "3. If using any resource (books, internet), please make sure that you cite it.\n",
        "4. Follow the given structure. Specifically, place all your tasks in THIS NOTEBOOK BUT IN SEPARATE BLOCKS. Then save this notebook as 'yourNetID_pa4.ipynb' and submit it. \n",
        "5. Do not alter the dataset name."
      ]
    },
    {
      "cell_type": "markdown",
      "metadata": {
        "id": "Nxz7IuBBV6ov",
        "colab_type": "text"
      },
      "source": [
        "## Assignment Details"
      ]
    },
    {
      "cell_type": "markdown",
      "metadata": {
        "collapsed": true,
        "id": "c-rcSOuCV6ow",
        "colab_type": "text"
      },
      "source": [
        "The purpose of this assignment is to cluster drug users using K-means clustering and Hierarchical Agglomerative clustering models and to visualize clusters for predicted and actual cluster labels.\n",
        "\n",
        "\n",
        "Your dataset is part of \"Drug consumption\". You can find more information here: https://archive.ics.uci.edu/ml/datasets/Drug+consumption+%28quantified%29#. The class attribute has been transformed into a binary classification where '0' indicates NOUSER and '1' indicates USER.\n",
        "\n",
        "You need to submit this ipython file after renaming it. \n"
      ]
    },
    {
      "cell_type": "code",
      "metadata": {
        "id": "gTGJ5O2IV6ow",
        "colab_type": "code",
        "colab": {},
        "outputId": "b7555192-9cdf-4e4c-bd41-33c762fb8c9a"
      },
      "source": [
        "%%javascript\n",
        "IPython.OutputArea.prototype._should_scroll = function(lines) {\n",
        "    return false;\n",
        "}"
      ],
      "execution_count": 0,
      "outputs": [
        {
          "output_type": "display_data",
          "data": {
            "application/javascript": [
              "IPython.OutputArea.prototype._should_scroll = function(lines) {\n",
              "    return false;\n",
              "}\n"
            ],
            "text/plain": [
              "<IPython.core.display.Javascript object>"
            ]
          },
          "metadata": {
            "tags": []
          }
        }
      ]
    },
    {
      "cell_type": "markdown",
      "metadata": {
        "id": "HMsJRuH9V6o0",
        "colab_type": "text"
      },
      "source": [
        "## Required Python Packages "
      ]
    },
    {
      "cell_type": "code",
      "metadata": {
        "id": "SiHSMA4XV6o1",
        "colab_type": "code",
        "colab": {}
      },
      "source": [
        "# Import required Python packages here\n",
        "%matplotlib inline \n",
        "import numpy as np\n",
        "import pandas as pd\n",
        "from pandas import Series, DataFrame\n",
        "import matplotlib.pyplot as plt"
      ],
      "execution_count": 0,
      "outputs": []
    },
    {
      "cell_type": "markdown",
      "metadata": {
        "id": "xIV07YiPV6o3",
        "colab_type": "text"
      },
      "source": [
        "## TASK 1: K-Means Clustering"
      ]
    },
    {
      "cell_type": "markdown",
      "metadata": {
        "id": "5FdrEasbV6o4",
        "colab_type": "text"
      },
      "source": [
        "### Task 1-a: Determine “k” value from the elbow method"
      ]
    },
    {
      "cell_type": "markdown",
      "metadata": {
        "id": "7t8ufr4GV6o4",
        "colab_type": "text"
      },
      "source": [
        "In this task, you will be using the elbow method to determine the optimal number of clusters for k-means clustering.\n",
        "\n",
        "We need some way to determine whether we are using the right number of clusters when using k-means clustering. One method to validate the number of clusters is the elbow method. \n",
        "\n",
        "The idea of the elbow method is to run k-means clustering on the dataset for a range of values of k (k will be from 1 to 10 in this task), and for each value of k calculate the sum of squared errors (SSE). Then, plot a line chart of the SSE for each value of k. If the line chart looks like an arm, then the \"elbow\" on the arm is the value of k that is the best. The idea is that we want a small SSE, but that the SSE tends to decrease toward 0 as we increase k (the SSE is 0 when k is equal to the number of data points in the dataset, because then each data point is a cluster, and there is no error between it and the center of its cluster). So our goal is to choose a small value of k that still has a low SSE, and the elbow usually represents where we start to have diminishing returns by increasing k.\n",
        "\n",
        "For this task, you need to perform the elbow method for k from 1 to 10 and plot a line chart of the SSE for each value of k, and determine the best k (the number of clusters). Note that you need to use the whole dataset in this task and you need to print your decision for k."
      ]
    },
    {
      "cell_type": "code",
      "metadata": {
        "id": "-vnYMs8_V6o5",
        "colab_type": "code",
        "colab": {},
        "outputId": "de87599d-2953-4c59-a752-a81938affa5b"
      },
      "source": [
        "df = pd.read_csv(\"drug_consumption.csv\")\n",
        "\n",
        "df.head()"
      ],
      "execution_count": 0,
      "outputs": [
        {
          "output_type": "execute_result",
          "data": {
            "text/html": [
              "<div>\n",
              "<style scoped>\n",
              "    .dataframe tbody tr th:only-of-type {\n",
              "        vertical-align: middle;\n",
              "    }\n",
              "\n",
              "    .dataframe tbody tr th {\n",
              "        vertical-align: top;\n",
              "    }\n",
              "\n",
              "    .dataframe thead th {\n",
              "        text-align: right;\n",
              "    }\n",
              "</style>\n",
              "<table border=\"1\" class=\"dataframe\">\n",
              "  <thead>\n",
              "    <tr style=\"text-align: right;\">\n",
              "      <th></th>\n",
              "      <th>ID</th>\n",
              "      <th>Age</th>\n",
              "      <th>Gender</th>\n",
              "      <th>Education</th>\n",
              "      <th>Country</th>\n",
              "      <th>Ethnicity</th>\n",
              "      <th>Nscore</th>\n",
              "      <th>Escore</th>\n",
              "      <th>Oscore</th>\n",
              "      <th>Ascore</th>\n",
              "      <th>...</th>\n",
              "      <th>Ecstasy</th>\n",
              "      <th>Heroin</th>\n",
              "      <th>Ketamine</th>\n",
              "      <th>Legalh</th>\n",
              "      <th>LSD</th>\n",
              "      <th>Meth</th>\n",
              "      <th>Mushrooms</th>\n",
              "      <th>Nicotine</th>\n",
              "      <th>Semer</th>\n",
              "      <th>VSA</th>\n",
              "    </tr>\n",
              "  </thead>\n",
              "  <tbody>\n",
              "    <tr>\n",
              "      <th>0</th>\n",
              "      <td>1</td>\n",
              "      <td>0.49788</td>\n",
              "      <td>0.48246</td>\n",
              "      <td>-0.05921</td>\n",
              "      <td>0.96082</td>\n",
              "      <td>0.12600</td>\n",
              "      <td>0.31287</td>\n",
              "      <td>-0.57545</td>\n",
              "      <td>-0.58331</td>\n",
              "      <td>-0.91699</td>\n",
              "      <td>...</td>\n",
              "      <td>CL0</td>\n",
              "      <td>CL0</td>\n",
              "      <td>CL0</td>\n",
              "      <td>CL0</td>\n",
              "      <td>CL0</td>\n",
              "      <td>CL0</td>\n",
              "      <td>CL0</td>\n",
              "      <td>CL2</td>\n",
              "      <td>CL0</td>\n",
              "      <td>CL0</td>\n",
              "    </tr>\n",
              "    <tr>\n",
              "      <th>1</th>\n",
              "      <td>2</td>\n",
              "      <td>-0.07854</td>\n",
              "      <td>-0.48246</td>\n",
              "      <td>1.98437</td>\n",
              "      <td>0.96082</td>\n",
              "      <td>-0.31685</td>\n",
              "      <td>-0.67825</td>\n",
              "      <td>1.93886</td>\n",
              "      <td>1.43533</td>\n",
              "      <td>0.76096</td>\n",
              "      <td>...</td>\n",
              "      <td>CL4</td>\n",
              "      <td>CL0</td>\n",
              "      <td>CL2</td>\n",
              "      <td>CL0</td>\n",
              "      <td>CL2</td>\n",
              "      <td>CL3</td>\n",
              "      <td>CL0</td>\n",
              "      <td>CL4</td>\n",
              "      <td>CL0</td>\n",
              "      <td>CL0</td>\n",
              "    </tr>\n",
              "    <tr>\n",
              "      <th>2</th>\n",
              "      <td>3</td>\n",
              "      <td>0.49788</td>\n",
              "      <td>-0.48246</td>\n",
              "      <td>-0.05921</td>\n",
              "      <td>0.96082</td>\n",
              "      <td>-0.31685</td>\n",
              "      <td>-0.46725</td>\n",
              "      <td>0.80523</td>\n",
              "      <td>-0.84732</td>\n",
              "      <td>-1.62090</td>\n",
              "      <td>...</td>\n",
              "      <td>CL0</td>\n",
              "      <td>CL0</td>\n",
              "      <td>CL0</td>\n",
              "      <td>CL0</td>\n",
              "      <td>CL0</td>\n",
              "      <td>CL0</td>\n",
              "      <td>CL1</td>\n",
              "      <td>CL0</td>\n",
              "      <td>CL0</td>\n",
              "      <td>CL0</td>\n",
              "    </tr>\n",
              "    <tr>\n",
              "      <th>3</th>\n",
              "      <td>4</td>\n",
              "      <td>-0.95197</td>\n",
              "      <td>0.48246</td>\n",
              "      <td>1.16365</td>\n",
              "      <td>0.96082</td>\n",
              "      <td>-0.31685</td>\n",
              "      <td>-0.14882</td>\n",
              "      <td>-0.80615</td>\n",
              "      <td>-0.01928</td>\n",
              "      <td>0.59042</td>\n",
              "      <td>...</td>\n",
              "      <td>CL0</td>\n",
              "      <td>CL0</td>\n",
              "      <td>CL2</td>\n",
              "      <td>CL0</td>\n",
              "      <td>CL0</td>\n",
              "      <td>CL0</td>\n",
              "      <td>CL0</td>\n",
              "      <td>CL2</td>\n",
              "      <td>CL0</td>\n",
              "      <td>CL0</td>\n",
              "    </tr>\n",
              "    <tr>\n",
              "      <th>4</th>\n",
              "      <td>5</td>\n",
              "      <td>0.49788</td>\n",
              "      <td>0.48246</td>\n",
              "      <td>1.98437</td>\n",
              "      <td>0.96082</td>\n",
              "      <td>-0.31685</td>\n",
              "      <td>0.73545</td>\n",
              "      <td>-1.63340</td>\n",
              "      <td>-0.45174</td>\n",
              "      <td>-0.30172</td>\n",
              "      <td>...</td>\n",
              "      <td>CL1</td>\n",
              "      <td>CL0</td>\n",
              "      <td>CL0</td>\n",
              "      <td>CL1</td>\n",
              "      <td>CL0</td>\n",
              "      <td>CL0</td>\n",
              "      <td>CL2</td>\n",
              "      <td>CL2</td>\n",
              "      <td>CL0</td>\n",
              "      <td>CL0</td>\n",
              "    </tr>\n",
              "  </tbody>\n",
              "</table>\n",
              "<p>5 rows × 32 columns</p>\n",
              "</div>"
            ],
            "text/plain": [
              "   ID      Age   Gender  Education  Country  Ethnicity   Nscore   Escore  \\\n",
              "0   1  0.49788  0.48246   -0.05921  0.96082    0.12600  0.31287 -0.57545   \n",
              "1   2 -0.07854 -0.48246    1.98437  0.96082   -0.31685 -0.67825  1.93886   \n",
              "2   3  0.49788 -0.48246   -0.05921  0.96082   -0.31685 -0.46725  0.80523   \n",
              "3   4 -0.95197  0.48246    1.16365  0.96082   -0.31685 -0.14882 -0.80615   \n",
              "4   5  0.49788  0.48246    1.98437  0.96082   -0.31685  0.73545 -1.63340   \n",
              "\n",
              "    Oscore   Ascore  ...  Ecstasy  Heroin  Ketamine Legalh  LSD Meth  \\\n",
              "0 -0.58331 -0.91699  ...      CL0     CL0       CL0    CL0  CL0  CL0   \n",
              "1  1.43533  0.76096  ...      CL4     CL0       CL2    CL0  CL2  CL3   \n",
              "2 -0.84732 -1.62090  ...      CL0     CL0       CL0    CL0  CL0  CL0   \n",
              "3 -0.01928  0.59042  ...      CL0     CL0       CL2    CL0  CL0  CL0   \n",
              "4 -0.45174 -0.30172  ...      CL1     CL0       CL0    CL1  CL0  CL0   \n",
              "\n",
              "  Mushrooms Nicotine Semer  VSA  \n",
              "0       CL0      CL2   CL0  CL0  \n",
              "1       CL0      CL4   CL0  CL0  \n",
              "2       CL1      CL0   CL0  CL0  \n",
              "3       CL0      CL2   CL0  CL0  \n",
              "4       CL2      CL2   CL0  CL0  \n",
              "\n",
              "[5 rows x 32 columns]"
            ]
          },
          "metadata": {
            "tags": []
          },
          "execution_count": 3
        }
      ]
    },
    {
      "cell_type": "code",
      "metadata": {
        "id": "hNEKRlQnV6o8",
        "colab_type": "code",
        "colab": {},
        "outputId": "f3defbf4-93ca-4516-c52e-1a2da42a9df1"
      },
      "source": [
        "df = df.replace('CL0','0')\n",
        "df = df.replace('CL1','0')\n",
        "df = df.replace('CL2','1')\n",
        "df = df.replace('CL3','1')\n",
        "df = df.replace('CL4','1')\n",
        "df = df.replace('CL5','1')\n",
        "df = df.replace('CL6','1')\n",
        "df[[\"Alcohol\",\"Amphet\",\"Amyl\",\"Benzos\",\"Caff\",\"Cannabis\",\"Choc\",\"Coke\",\"Crack\",\"Ecstasy\",\"Heroin\",\"Ketamine\",\"Legalh\",\"LSD\",\"Meth\",\"Mushrooms\",\"Nicotine\",\"Semer\",\"VSA\"]] = df[[\"Alcohol\",\"Amphet\",\"Amyl\",\"Benzos\",\"Caff\",\"Cannabis\",\"Choc\",\"Coke\",\"Crack\",\"Ecstasy\",\"Heroin\",\"Ketamine\",\"Legalh\",\"LSD\",\"Meth\",\"Mushrooms\",\"Nicotine\",\"Semer\",\"VSA\"]].astype(float)\n",
        "df.head()"
      ],
      "execution_count": 0,
      "outputs": [
        {
          "output_type": "execute_result",
          "data": {
            "text/html": [
              "<div>\n",
              "<style scoped>\n",
              "    .dataframe tbody tr th:only-of-type {\n",
              "        vertical-align: middle;\n",
              "    }\n",
              "\n",
              "    .dataframe tbody tr th {\n",
              "        vertical-align: top;\n",
              "    }\n",
              "\n",
              "    .dataframe thead th {\n",
              "        text-align: right;\n",
              "    }\n",
              "</style>\n",
              "<table border=\"1\" class=\"dataframe\">\n",
              "  <thead>\n",
              "    <tr style=\"text-align: right;\">\n",
              "      <th></th>\n",
              "      <th>ID</th>\n",
              "      <th>Age</th>\n",
              "      <th>Gender</th>\n",
              "      <th>Education</th>\n",
              "      <th>Country</th>\n",
              "      <th>Ethnicity</th>\n",
              "      <th>Nscore</th>\n",
              "      <th>Escore</th>\n",
              "      <th>Oscore</th>\n",
              "      <th>Ascore</th>\n",
              "      <th>...</th>\n",
              "      <th>Ecstasy</th>\n",
              "      <th>Heroin</th>\n",
              "      <th>Ketamine</th>\n",
              "      <th>Legalh</th>\n",
              "      <th>LSD</th>\n",
              "      <th>Meth</th>\n",
              "      <th>Mushrooms</th>\n",
              "      <th>Nicotine</th>\n",
              "      <th>Semer</th>\n",
              "      <th>VSA</th>\n",
              "    </tr>\n",
              "  </thead>\n",
              "  <tbody>\n",
              "    <tr>\n",
              "      <th>0</th>\n",
              "      <td>1</td>\n",
              "      <td>0.49788</td>\n",
              "      <td>0.48246</td>\n",
              "      <td>-0.05921</td>\n",
              "      <td>0.96082</td>\n",
              "      <td>0.12600</td>\n",
              "      <td>0.31287</td>\n",
              "      <td>-0.57545</td>\n",
              "      <td>-0.58331</td>\n",
              "      <td>-0.91699</td>\n",
              "      <td>...</td>\n",
              "      <td>0.0</td>\n",
              "      <td>0.0</td>\n",
              "      <td>0.0</td>\n",
              "      <td>0.0</td>\n",
              "      <td>0.0</td>\n",
              "      <td>0.0</td>\n",
              "      <td>0.0</td>\n",
              "      <td>1.0</td>\n",
              "      <td>0.0</td>\n",
              "      <td>0.0</td>\n",
              "    </tr>\n",
              "    <tr>\n",
              "      <th>1</th>\n",
              "      <td>2</td>\n",
              "      <td>-0.07854</td>\n",
              "      <td>-0.48246</td>\n",
              "      <td>1.98437</td>\n",
              "      <td>0.96082</td>\n",
              "      <td>-0.31685</td>\n",
              "      <td>-0.67825</td>\n",
              "      <td>1.93886</td>\n",
              "      <td>1.43533</td>\n",
              "      <td>0.76096</td>\n",
              "      <td>...</td>\n",
              "      <td>1.0</td>\n",
              "      <td>0.0</td>\n",
              "      <td>1.0</td>\n",
              "      <td>0.0</td>\n",
              "      <td>1.0</td>\n",
              "      <td>1.0</td>\n",
              "      <td>0.0</td>\n",
              "      <td>1.0</td>\n",
              "      <td>0.0</td>\n",
              "      <td>0.0</td>\n",
              "    </tr>\n",
              "    <tr>\n",
              "      <th>2</th>\n",
              "      <td>3</td>\n",
              "      <td>0.49788</td>\n",
              "      <td>-0.48246</td>\n",
              "      <td>-0.05921</td>\n",
              "      <td>0.96082</td>\n",
              "      <td>-0.31685</td>\n",
              "      <td>-0.46725</td>\n",
              "      <td>0.80523</td>\n",
              "      <td>-0.84732</td>\n",
              "      <td>-1.62090</td>\n",
              "      <td>...</td>\n",
              "      <td>0.0</td>\n",
              "      <td>0.0</td>\n",
              "      <td>0.0</td>\n",
              "      <td>0.0</td>\n",
              "      <td>0.0</td>\n",
              "      <td>0.0</td>\n",
              "      <td>0.0</td>\n",
              "      <td>0.0</td>\n",
              "      <td>0.0</td>\n",
              "      <td>0.0</td>\n",
              "    </tr>\n",
              "    <tr>\n",
              "      <th>3</th>\n",
              "      <td>4</td>\n",
              "      <td>-0.95197</td>\n",
              "      <td>0.48246</td>\n",
              "      <td>1.16365</td>\n",
              "      <td>0.96082</td>\n",
              "      <td>-0.31685</td>\n",
              "      <td>-0.14882</td>\n",
              "      <td>-0.80615</td>\n",
              "      <td>-0.01928</td>\n",
              "      <td>0.59042</td>\n",
              "      <td>...</td>\n",
              "      <td>0.0</td>\n",
              "      <td>0.0</td>\n",
              "      <td>1.0</td>\n",
              "      <td>0.0</td>\n",
              "      <td>0.0</td>\n",
              "      <td>0.0</td>\n",
              "      <td>0.0</td>\n",
              "      <td>1.0</td>\n",
              "      <td>0.0</td>\n",
              "      <td>0.0</td>\n",
              "    </tr>\n",
              "    <tr>\n",
              "      <th>4</th>\n",
              "      <td>5</td>\n",
              "      <td>0.49788</td>\n",
              "      <td>0.48246</td>\n",
              "      <td>1.98437</td>\n",
              "      <td>0.96082</td>\n",
              "      <td>-0.31685</td>\n",
              "      <td>0.73545</td>\n",
              "      <td>-1.63340</td>\n",
              "      <td>-0.45174</td>\n",
              "      <td>-0.30172</td>\n",
              "      <td>...</td>\n",
              "      <td>0.0</td>\n",
              "      <td>0.0</td>\n",
              "      <td>0.0</td>\n",
              "      <td>0.0</td>\n",
              "      <td>0.0</td>\n",
              "      <td>0.0</td>\n",
              "      <td>1.0</td>\n",
              "      <td>1.0</td>\n",
              "      <td>0.0</td>\n",
              "      <td>0.0</td>\n",
              "    </tr>\n",
              "  </tbody>\n",
              "</table>\n",
              "<p>5 rows × 32 columns</p>\n",
              "</div>"
            ],
            "text/plain": [
              "   ID      Age   Gender  Education  Country  Ethnicity   Nscore   Escore  \\\n",
              "0   1  0.49788  0.48246   -0.05921  0.96082    0.12600  0.31287 -0.57545   \n",
              "1   2 -0.07854 -0.48246    1.98437  0.96082   -0.31685 -0.67825  1.93886   \n",
              "2   3  0.49788 -0.48246   -0.05921  0.96082   -0.31685 -0.46725  0.80523   \n",
              "3   4 -0.95197  0.48246    1.16365  0.96082   -0.31685 -0.14882 -0.80615   \n",
              "4   5  0.49788  0.48246    1.98437  0.96082   -0.31685  0.73545 -1.63340   \n",
              "\n",
              "    Oscore   Ascore  ...  Ecstasy  Heroin  Ketamine  Legalh  LSD  Meth  \\\n",
              "0 -0.58331 -0.91699  ...      0.0     0.0       0.0     0.0  0.0   0.0   \n",
              "1  1.43533  0.76096  ...      1.0     0.0       1.0     0.0  1.0   1.0   \n",
              "2 -0.84732 -1.62090  ...      0.0     0.0       0.0     0.0  0.0   0.0   \n",
              "3 -0.01928  0.59042  ...      0.0     0.0       1.0     0.0  0.0   0.0   \n",
              "4 -0.45174 -0.30172  ...      0.0     0.0       0.0     0.0  0.0   0.0   \n",
              "\n",
              "   Mushrooms  Nicotine  Semer  VSA  \n",
              "0        0.0       1.0    0.0  0.0  \n",
              "1        0.0       1.0    0.0  0.0  \n",
              "2        0.0       0.0    0.0  0.0  \n",
              "3        0.0       1.0    0.0  0.0  \n",
              "4        1.0       1.0    0.0  0.0  \n",
              "\n",
              "[5 rows x 32 columns]"
            ]
          },
          "metadata": {
            "tags": []
          },
          "execution_count": 4
        }
      ]
    },
    {
      "cell_type": "code",
      "metadata": {
        "scrolled": true,
        "id": "qSurxvFKV6o-",
        "colab_type": "code",
        "colab": {},
        "outputId": "cef1e460-8bb1-4f63-8f59-9180180e9e3c"
      },
      "source": [
        "#########################begin code for Task 1-a\n",
        "from sklearn.cluster import KMeans\n",
        "def elbowPlot(df, maxK=11, seed_centroids=None): # maxK (default = 10): integer (maximum number of clusters with which to run k-means)\n",
        "        \n",
        "    sse = {}\n",
        "    for k in range(1, maxK):\n",
        "        print(\"k: \", k)\n",
        "        if seed_centroids is not None:\n",
        "            seeds = seed_centroids.head(k)\n",
        "            kmeans = KMeans(n_clusters=k, max_iter=500, n_init=100, random_state=0, init=np.reshape(seeds, (k,1))).fit(df)\n",
        "            df[\"clusters\"] = kmeans.labels_\n",
        "        else:\n",
        "            kmeans = KMeans(n_clusters=k, max_iter=300, n_init=100, random_state=0).fit(df)\n",
        "            df[\"clusters\"] = kmeans.labels_\n",
        "        # Inertia: Sum of distances of samples to their closest cluster center\n",
        "        sse[k] = kmeans.inertia_\n",
        "    plt.figure(figsize=(10,7))\n",
        "    plt.plot(list(sse.keys()), list(sse.values()), 'bx-')\n",
        "    plt.show()\n",
        "    return\n",
        "\n",
        "\n",
        "elbowPlot(df[['Alcohol','Amphet','Amyl','Benzos','Caff','Cannabis','Choc','Coke','Crack','Ecstasy','Heroin','Ketamine','Legalh','LSD','Meth','Mushrooms','Nicotine','Semer', 'VSA']], maxK=11)\n",
        "print(\"I think the best choice for k according to elbow criterion is k = 2\")\n",
        "#########################end code for Task 1-a"
      ],
      "execution_count": 0,
      "outputs": [
        {
          "output_type": "stream",
          "text": [
            "k:  1\n"
          ],
          "name": "stdout"
        },
        {
          "output_type": "stream",
          "text": [
            "D:\\Programs\\Anaconda3\\lib\\site-packages\\ipykernel_launcher.py:14: SettingWithCopyWarning: \n",
            "A value is trying to be set on a copy of a slice from a DataFrame.\n",
            "Try using .loc[row_indexer,col_indexer] = value instead\n",
            "\n",
            "See the caveats in the documentation: http://pandas.pydata.org/pandas-docs/stable/indexing.html#indexing-view-versus-copy\n",
            "  \n"
          ],
          "name": "stderr"
        },
        {
          "output_type": "stream",
          "text": [
            "k:  2\n"
          ],
          "name": "stdout"
        },
        {
          "output_type": "stream",
          "text": [
            "D:\\Programs\\Anaconda3\\lib\\site-packages\\ipykernel_launcher.py:14: SettingWithCopyWarning: \n",
            "A value is trying to be set on a copy of a slice from a DataFrame.\n",
            "Try using .loc[row_indexer,col_indexer] = value instead\n",
            "\n",
            "See the caveats in the documentation: http://pandas.pydata.org/pandas-docs/stable/indexing.html#indexing-view-versus-copy\n",
            "  \n"
          ],
          "name": "stderr"
        },
        {
          "output_type": "stream",
          "text": [
            "k:  3\n"
          ],
          "name": "stdout"
        },
        {
          "output_type": "stream",
          "text": [
            "D:\\Programs\\Anaconda3\\lib\\site-packages\\ipykernel_launcher.py:14: SettingWithCopyWarning: \n",
            "A value is trying to be set on a copy of a slice from a DataFrame.\n",
            "Try using .loc[row_indexer,col_indexer] = value instead\n",
            "\n",
            "See the caveats in the documentation: http://pandas.pydata.org/pandas-docs/stable/indexing.html#indexing-view-versus-copy\n",
            "  \n"
          ],
          "name": "stderr"
        },
        {
          "output_type": "stream",
          "text": [
            "k:  4\n"
          ],
          "name": "stdout"
        },
        {
          "output_type": "stream",
          "text": [
            "D:\\Programs\\Anaconda3\\lib\\site-packages\\ipykernel_launcher.py:14: SettingWithCopyWarning: \n",
            "A value is trying to be set on a copy of a slice from a DataFrame.\n",
            "Try using .loc[row_indexer,col_indexer] = value instead\n",
            "\n",
            "See the caveats in the documentation: http://pandas.pydata.org/pandas-docs/stable/indexing.html#indexing-view-versus-copy\n",
            "  \n"
          ],
          "name": "stderr"
        },
        {
          "output_type": "stream",
          "text": [
            "k:  5\n"
          ],
          "name": "stdout"
        },
        {
          "output_type": "stream",
          "text": [
            "D:\\Programs\\Anaconda3\\lib\\site-packages\\ipykernel_launcher.py:14: SettingWithCopyWarning: \n",
            "A value is trying to be set on a copy of a slice from a DataFrame.\n",
            "Try using .loc[row_indexer,col_indexer] = value instead\n",
            "\n",
            "See the caveats in the documentation: http://pandas.pydata.org/pandas-docs/stable/indexing.html#indexing-view-versus-copy\n",
            "  \n"
          ],
          "name": "stderr"
        },
        {
          "output_type": "stream",
          "text": [
            "k:  6\n"
          ],
          "name": "stdout"
        },
        {
          "output_type": "stream",
          "text": [
            "D:\\Programs\\Anaconda3\\lib\\site-packages\\ipykernel_launcher.py:14: SettingWithCopyWarning: \n",
            "A value is trying to be set on a copy of a slice from a DataFrame.\n",
            "Try using .loc[row_indexer,col_indexer] = value instead\n",
            "\n",
            "See the caveats in the documentation: http://pandas.pydata.org/pandas-docs/stable/indexing.html#indexing-view-versus-copy\n",
            "  \n"
          ],
          "name": "stderr"
        },
        {
          "output_type": "stream",
          "text": [
            "k:  7\n"
          ],
          "name": "stdout"
        },
        {
          "output_type": "stream",
          "text": [
            "D:\\Programs\\Anaconda3\\lib\\site-packages\\ipykernel_launcher.py:14: SettingWithCopyWarning: \n",
            "A value is trying to be set on a copy of a slice from a DataFrame.\n",
            "Try using .loc[row_indexer,col_indexer] = value instead\n",
            "\n",
            "See the caveats in the documentation: http://pandas.pydata.org/pandas-docs/stable/indexing.html#indexing-view-versus-copy\n",
            "  \n"
          ],
          "name": "stderr"
        },
        {
          "output_type": "stream",
          "text": [
            "k:  8\n"
          ],
          "name": "stdout"
        },
        {
          "output_type": "stream",
          "text": [
            "D:\\Programs\\Anaconda3\\lib\\site-packages\\ipykernel_launcher.py:14: SettingWithCopyWarning: \n",
            "A value is trying to be set on a copy of a slice from a DataFrame.\n",
            "Try using .loc[row_indexer,col_indexer] = value instead\n",
            "\n",
            "See the caveats in the documentation: http://pandas.pydata.org/pandas-docs/stable/indexing.html#indexing-view-versus-copy\n",
            "  \n"
          ],
          "name": "stderr"
        },
        {
          "output_type": "stream",
          "text": [
            "k:  9\n"
          ],
          "name": "stdout"
        },
        {
          "output_type": "stream",
          "text": [
            "D:\\Programs\\Anaconda3\\lib\\site-packages\\ipykernel_launcher.py:14: SettingWithCopyWarning: \n",
            "A value is trying to be set on a copy of a slice from a DataFrame.\n",
            "Try using .loc[row_indexer,col_indexer] = value instead\n",
            "\n",
            "See the caveats in the documentation: http://pandas.pydata.org/pandas-docs/stable/indexing.html#indexing-view-versus-copy\n",
            "  \n"
          ],
          "name": "stderr"
        },
        {
          "output_type": "stream",
          "text": [
            "k:  10\n"
          ],
          "name": "stdout"
        },
        {
          "output_type": "stream",
          "text": [
            "D:\\Programs\\Anaconda3\\lib\\site-packages\\ipykernel_launcher.py:14: SettingWithCopyWarning: \n",
            "A value is trying to be set on a copy of a slice from a DataFrame.\n",
            "Try using .loc[row_indexer,col_indexer] = value instead\n",
            "\n",
            "See the caveats in the documentation: http://pandas.pydata.org/pandas-docs/stable/indexing.html#indexing-view-versus-copy\n",
            "  \n"
          ],
          "name": "stderr"
        },
        {
          "output_type": "display_data",
          "data": {
            "image/png": "[encoded data removed]",
            "text/plain": [
              "<Figure size 720x504 with 1 Axes>"
            ]
          },
          "metadata": {
            "tags": [],
            "needs_background": "light"
          }
        },
        {
          "output_type": "stream",
          "text": [
            "I think the best choice for k according to elbow criterion is k = 2\n"
          ],
          "name": "stdout"
        }
      ]
    },
    {
      "cell_type": "markdown",
      "metadata": {
        "id": "Zol4amdhV6pB",
        "colab_type": "text"
      },
      "source": [
        "### Task 1-b: Visualization for K-Means Clustering"
      ]
    },
    {
      "cell_type": "markdown",
      "metadata": {
        "id": "1pN5SpQWV6pB",
        "colab_type": "text"
      },
      "source": [
        "In this task, you will be performing k-means clustering for k=2 and visualize the predicted training samples and actual training samples on scatter plots. Use 70% of the dataset for training and 30% of the dataset for testing. Perform kmeans for clustering samples in your training set. \n",
        "\n",
        "Use two subplots for visualizing the predicted training samples and actual training samples on two scatter plots.\n",
        "\n",
        "Since your dataset has multiple features(dimensions), you won't be able to plot your data on a scatter plot. Thus, you’re going to visualize your data with the help of one of the Dimensionality Reduction techniques, namely Principal Component Analysis (PCA). The idea in PCA is to find a linear combination of the two variables that contains most of the information. This new variable or “principal component” can replace the two original variables. You can easily apply PCA to your data with the help of scikit-learn.\n",
        "\n"
      ]
    },
    {
      "cell_type": "code",
      "metadata": {
        "id": "ZcC7ZdBGV6pC",
        "colab_type": "code",
        "colab": {},
        "outputId": "da1d7114-f914-43b6-a88b-a296fbdbd53e"
      },
      "source": [
        "###################begin code for Task 1-b-1: Split the dataset 70% for training and 30% for testing\n",
        "\n",
        "### Important!!!\n",
        "### Created training and testing datasets will be used for the rest of this assignment except Task 3.\n",
        "\n",
        "from sklearn.model_selection import train_test_split\n",
        "X = df[['ID','Age','Gender','Education','Country','Ethnicity','Nscore','Escore','Oscore','Ascore','Cscore','Impulsive','SS']]\n",
        "y = df[['Alcohol','Amphet','Amyl','Benzos','Caff','Cannabis','Choc','Coke','Crack','Ecstasy','Heroin','Ketamine','Legalh','LSD','Meth','Mushrooms','Nicotine','Semer', 'VSA']]\n",
        "\n",
        "# create training and testing vars\n",
        "X_train, X_test, y_train, y_test = train_test_split(X, y, test_size=0.3)\n",
        "print(X_train.shape, y_train.shape) \n",
        "print(X_test.shape, y_test.shape)\n",
        "\n",
        "###################end code for Task 1-b-1"
      ],
      "execution_count": 0,
      "outputs": [
        {
          "output_type": "stream",
          "text": [
            "(1319, 13) (1319, 19)\n",
            "(566, 13) (566, 19)\n"
          ],
          "name": "stdout"
        }
      ]
    },
    {
      "cell_type": "code",
      "metadata": {
        "scrolled": false,
        "id": "jK4bCQKqV6pE",
        "colab_type": "code",
        "colab": {},
        "outputId": "4cb82582-7ab7-4a86-c166-b758e5c1c3e6"
      },
      "source": [
        "###################begin code for Task 1-b-2: Visualize the predicted training labels vs actual training labels\n",
        "\n",
        "# Import PCA\n",
        "from sklearn.cluster import KMeans\n",
        "from sklearn.decomposition import PCA\n",
        "from sklearn.preprocessing import StandardScaler\n",
        "\n",
        "# Create the KMeans model\n",
        "data = df \n",
        "kmeans = KMeans(n_clusters=2)\n",
        "kmeans.fit(X_train)\n",
        "print(kmeans)\n",
        "y_pred =kmeans.predict(X_train)\n",
        "yp1 = y_pred\n",
        "ytrn = y_train.values\n",
        "y_pred_df=pd.DataFrame(data=y_pred)\n",
        "X_train_pca = pd.DataFrame(X_train.values)\n",
        "\n",
        "# Compute cluster centers and predict cluster index for each sample\n",
        "clusters = kmeans.fit_predict(X_train_pca,y_pred_df)\n",
        "print(\"Clusters :%s\" %clusters)\n",
        "centers = kmeans.cluster_centers_\n",
        "plt.scatter(centers[:,1],centers[:,1], c=\"black\")\n",
        "\n",
        "# Model and fit the data to the PCA model\n",
        "X_train_pca = pd.DataFrame(X_train.values)\n",
        "from sklearn.preprocessing import StandardScaler\n",
        "X_std = StandardScaler().fit_transform(X_train)\n",
        "pca = PCA(n_components=2)\n",
        "x_pca = pd.DataFrame(pca.fit_transform(X_std))\n",
        "fdata=pd.concat([x_pca,y_pred_df],axis=1)\n",
        "plt.figure('K-Means')\n",
        "plt.scatter(x_pca.iloc[:,0],x_pca.iloc[:,1],fdata, c=kmeans.labels_)\n",
        "plt.title('K-Means')\n",
        "plt.xlabel('Predicted Traing Labels')\n",
        "plt.ylabel('Actual Traing Labels')\n",
        "plt.show()\n",
        "\n",
        "# Visualize the predicted training labels vs actual training labels. \n",
        "#plt.scatter(x, y, y_pred_pca)\n",
        "#x = X_train_pca[:, 0]\n",
        "#y = X_train_pca[:, 1]\n",
        "\n",
        "\n",
        "###################end code for Task 1-b-2"
      ],
      "execution_count": 0,
      "outputs": [
        {
          "output_type": "stream",
          "text": [
            "KMeans(algorithm='auto', copy_x=True, init='k-means++', max_iter=300,\n",
            "       n_clusters=2, n_init=10, n_jobs=None, precompute_distances='auto',\n",
            "       random_state=None, tol=0.0001, verbose=0)\n",
            "Clusters :[0 1 0 ... 0 0 0]\n"
          ],
          "name": "stdout"
        },
        {
          "output_type": "stream",
          "text": [
            "D:\\Programs\\Anaconda3\\lib\\site-packages\\matplotlib\\collections.py:857: RuntimeWarning: invalid value encountered in sqrt\n",
            "  scale = np.sqrt(self._sizes) * dpi / 72.0 * self._factor\n"
          ],
          "name": "stderr"
        },
        {
          "output_type": "display_data",
          "data": {
            "image/png": "[encoded data removed]",
            "text/plain": [
              "<Figure size 432x288 with 1 Axes>"
            ]
          },
          "metadata": {
            "tags": [],
            "needs_background": "light"
          }
        },
        {
          "output_type": "display_data",
          "data": {
            "image/png": "[encoded data removed]",
            "text/plain": [
              "<Figure size 432x288 with 1 Axes>"
            ]
          },
          "metadata": {
            "tags": [],
            "needs_background": "light"
          }
        }
      ]
    },
    {
      "cell_type": "markdown",
      "metadata": {
        "id": "q-tDFpxnV6pG",
        "colab_type": "text"
      },
      "source": [
        "Now, you need to visualize the predicted testing labels versus actual testing labels. Use the trained model in previous step."
      ]
    },
    {
      "cell_type": "code",
      "metadata": {
        "scrolled": true,
        "id": "tsXDAhYRV6pH",
        "colab_type": "code",
        "colab": {},
        "outputId": "06878cfd-1d2a-4046-99ba-f8afddedffdb"
      },
      "source": [
        "###################begin code for Task 1-b-3: Visualize the predicted testing labels vs actual testing labels\n",
        "\n",
        "# Visualize the predicted testing labels vs actual testing labels. \n",
        "\n",
        "kmeans = KMeans(n_clusters=2)\n",
        "kmeans.fit(X_test)\n",
        "yt = y_test.values\n",
        "\n",
        "y_pred = kmeans.predict(X_test)\n",
        "y_pred_df = pd.DataFrame(data=y_pred)\n",
        "X_test_pca = pd.DataFrame(X_test)\n",
        "\n",
        "X_std = StandardScaler().fit_transform(X_test)\n",
        "pca = PCA(n_components=2)\n",
        "x_pca_d = pd.DataFrame(pca.fit_transform(X_std))\n",
        "finaldf=pd.concat([x_pca_d,y_pred_df],axis=1)\n",
        "plt.figure('K-Means')\n",
        "plt.scatter(x_pca_d.iloc[:,0],x_pca_d.iloc[:,1],finaldf, c=kmeans.labels_)\n",
        "plt.title('K-Means')\n",
        "plt.xlabel('Predicted Traing Labels')\n",
        "plt.ylabel('Actual Traing Labels')\n",
        "plt.show()\n",
        "\n",
        "###################end code for Task 1-b-3"
      ],
      "execution_count": 0,
      "outputs": [
        {
          "output_type": "stream",
          "text": [
            "D:\\Programs\\Anaconda3\\lib\\site-packages\\matplotlib\\collections.py:857: RuntimeWarning: invalid value encountered in sqrt\n",
            "  scale = np.sqrt(self._sizes) * dpi / 72.0 * self._factor\n"
          ],
          "name": "stderr"
        },
        {
          "output_type": "display_data",
          "data": {
            "image/png": "[encoded data removed]",
            "text/plain": [
              "<Figure size 432x288 with 1 Axes>"
            ]
          },
          "metadata": {
            "tags": [],
            "needs_background": "light"
          }
        }
      ]
    },
    {
      "cell_type": "markdown",
      "metadata": {
        "id": "vhvdL44NV6pJ",
        "colab_type": "text"
      },
      "source": [
        "In this step, you need to provide the evaluation of your clustering model. Print out a confusion matrix."
      ]
    },
    {
      "cell_type": "code",
      "metadata": {
        "id": "tjKWrlXDV6pJ",
        "colab_type": "code",
        "colab": {},
        "outputId": "72c32410-2d52-4954-cfb4-61768e4377aa"
      },
      "source": [
        "###################begin code for Task 1-b-4: Print out a confusion matrix\n",
        "\n",
        "from sklearn import metrics\n",
        "from sklearn.metrics import confusion_matrix\n",
        "\n",
        "y_test = [0 if i.all() == 1.0 else i for i in yt]\n",
        "y_test = [1 if i.all() == 0.0 else i for i in yt]\n",
        "print(cm(y_test,y_pred))\n",
        "\n",
        "###################end code for Task 1-b-4"
      ],
      "execution_count": 0,
      "outputs": [
        {
          "output_type": "stream",
          "text": [
            "[[  0   0]\n",
            " [282 284]]\n"
          ],
          "name": "stdout"
        }
      ]
    },
    {
      "cell_type": "markdown",
      "metadata": {
        "id": "Lc-wYKyfV6pM",
        "colab_type": "text"
      },
      "source": [
        "# TASK 2: Hierarchical Agglomerative  Clustering"
      ]
    },
    {
      "cell_type": "markdown",
      "metadata": {
        "id": "1A7ky8udV6pM",
        "colab_type": "text"
      },
      "source": [
        "## Task 2-a: Find the best Hierarchical Agglomerative Clustering Model"
      ]
    },
    {
      "cell_type": "markdown",
      "metadata": {
        "id": "-QMocGY9V6pP",
        "colab_type": "text"
      },
      "source": [
        "In this task, you will be performing Hierarchical Agglomerative clustering with different linkage methods (complete and average) and different similarity measures (cosine, euclidean, and manhattan) in order to find the best pair of linkage method and similarity measure. Use F1 score for evaluation and take n_clusters = 2.\n"
      ]
    },
    {
      "cell_type": "code",
      "metadata": {
        "id": "3WJ7KtKIV6pP",
        "colab_type": "code",
        "colab": {},
        "outputId": "1bdd4191-acc7-49cb-b2fe-1f82d80a5a55"
      },
      "source": [
        "###################begin code for Task 2-a: Print out a confusion matrix\n",
        "# Import AgglomerativeClustering\n",
        "from sklearn.cluster import AgglomerativeClustering\n",
        "# Import pairwise_distances for calculating pairwise distance matrix\n",
        "from sklearn.metrics.pairwise import pairwise_distances\n",
        "# Import f1_score\n",
        "from sklearn.metrics import f1_score\n",
        "\n",
        "\n",
        "## Calculate pairwise distance matrix for X_train\n",
        "pdm_train = pairwise_distances(X_train, Y=None, metric='euclidean')\n",
        "\n",
        "## Model and fit the training data to the AgglomerativeClustering model\n",
        "## complete linkage + cosine\n",
        "CC = AgglomerativeClustering(n_clusters=2, affinity='cosine', linkage='complete')\n",
        "y_pred_CC = CC.fit_predict(pdm_train)\n",
        "f1_score_CC = f1_score(y_train, y_pred_CC, labels=None, pos_label=1, average='binary', sample_weight=None)\n",
        "\n",
        "## Model and fit the training data to the AgglomerativeClustering model\n",
        "## complete linkage + euclidean\n",
        "CE = AgglomerativeClustering(n_clusters=2, affinity='euclidean', linkage='complete')\n",
        "y_pred__CE = CE.fit_predict(pdm_train)\n",
        "f1_score__CE = f1_score(y_train, y_pred__CE, labels=None, pos_label=1, average='binary', sample_weight=None)\n",
        "\n",
        "## Model and fit the training data to the AgglomerativeClustering model\n",
        "## complete linkage + manhattan\n",
        "CM = AgglomerativeClustering(n_clusters=2, affinity='manhattan', linkage='complete')\n",
        "y_pred__CM = CM.fit_predict(pdm_train)\n",
        "f1_score__CM = f1_score(y_train, y_pred__CM, labels=None, pos_label=1, average='binary', sample_weight=None)\n",
        "\n",
        "## Model and fit the training data to the AgglomerativeClustering model\n",
        "## average linkage + cosine\n",
        "AC = AgglomerativeClustering(n_clusters=2, affinity='cosine', linkage='average')\n",
        "y_pred__AC = AC.fit_predict(pdm_train)\n",
        "f1_score__AC = f1_score(y_train, y_pred__AC, labels=None, pos_label=1, average='binary', sample_weight=None)\n",
        "\n",
        "## Model and fit the training data to the AgglomerativeClustering model\n",
        "## average linkage + euclidean\n",
        "AE = AgglomerativeClustering(n_clusters=2, affinity='euclidean', linkage='average')\n",
        "y_pred__AE = AE.fit_predict(pdm_train)\n",
        "f1_score__AE = f1_score(y_train, y_pred__AE, labels=None, pos_label=1, average='binary', sample_weight=None)\n",
        "\n",
        "## Model and fit the training data to the AgglomerativeClustering model\n",
        "## average linkage + manhattan\n",
        "AM = AgglomerativeClustering(n_clusters=2, affinity='manhattan', linkage='average')\n",
        "y_pred__AM = AM.fit_predict(pdm_train)\n",
        "f1_score__AM = f1_score(y_train, y_pred__AM, labels=None, pos_label=1, average='binary', sample_weight=None)\n",
        "\n",
        "print(\"F1-score for complete linkage + cosine\", f1_score_CC)\n",
        "print(\"F1-score for complete linkage + euclidean\", f1_score__CE)\n",
        "print(\"F1-score for complete linkage + manhattan\", f1_score__CM)\n",
        "print(\"F1-score for average linkage + cosine\", f1_score__AC)\n",
        "print(\"F1-score for average linkage + euclidean\", f1_score__AE)\n",
        "print(\"F1-score for average linkage + manhattan\", f1_score__AM)\n",
        "print(\"The best pair of linkage method and similarity measure is average linkage + cosine or average linkage + euclidean\")\n",
        "###################end code for Task 2-a"
      ],
      "execution_count": 0,
      "outputs": [
        {
          "output_type": "stream",
          "text": [
            "F1-score for complete linkage + cosine 0.6281851274050962\n",
            "F1-score for complete linkage + euclidean 0.45278592375366566\n",
            "F1-score for complete linkage + manhattan 0.6317427385892116\n",
            "F1-score for average linkage + cosine 0.6513292433537833\n",
            "F1-score for average linkage + euclidean 0.6513292433537833\n",
            "F1-score for average linkage + manhattan 0.6260416666666666\n",
            "The best pair of linkage method and similarity measure is average linkage + cosine or average linkage + euclidean\n"
          ],
          "name": "stdout"
        }
      ]
    },
    {
      "cell_type": "markdown",
      "metadata": {
        "id": "2uxpXLBoV6pS",
        "colab_type": "text"
      },
      "source": [
        "## Task 2-b:  Visualization for Hierarchical Agglomerative Clustering"
      ]
    },
    {
      "cell_type": "markdown",
      "metadata": {
        "id": "JkaP0k8KV6pS",
        "colab_type": "text"
      },
      "source": [
        "Find the best performed model from the previous step and use that model for visualizing the predicted training samples and actual training samples on scatter plots. Use PCA model for visualizing your data (use X_train_pca from Task 1-b-2). "
      ]
    },
    {
      "cell_type": "code",
      "metadata": {
        "id": "nEFMrtyxV6pS",
        "colab_type": "code",
        "colab": {},
        "outputId": "cec31277-4947-43b7-c10e-c1a490953444"
      },
      "source": [
        "###################begin code for Task 2-b: Visualize the predicted training labels vs actual training labels\n",
        "\n",
        "\n",
        "# Visualize the predicted training labels versus actual training labels. \n",
        "y_pred_df1=pd.DataFrame(data=y_pred__AE)\n",
        "\n",
        "pca = PCA(n_components=2)\n",
        "x_pca_d = pd.DataFrame(pca.fit_transform(X_std))\n",
        "finaldf1=pd.concat([x_pca_d,y_pred_df1],axis=1)\n",
        "LABEL_COLOR_MAP = {0:'r', 1: 'b', 2: 'g'}\n",
        "label_color = [LABEL_COLOR_MAP[l] for l in y_pred]\n",
        "plt.figure('Agglomerative Clustering')\n",
        "plt.scatter(x_pca_d.iloc[:,0],x_pca_d.iloc[:,1],finaldf1,c= label_color)\n",
        "plt.title('Agglomerative Clustering')\n",
        "plt.xlabel('Predicted Training Labels')\n",
        "plt.ylabel('Actual Training Labels')\n",
        "plt.show()\n",
        "\n",
        "###################end code for Task 2-b"
      ],
      "execution_count": 0,
      "outputs": [
        {
          "output_type": "stream",
          "text": [
            "D:\\Programs\\Anaconda3\\lib\\site-packages\\matplotlib\\collections.py:857: RuntimeWarning: invalid value encountered in sqrt\n",
            "  scale = np.sqrt(self._sizes) * dpi / 72.0 * self._factor\n"
          ],
          "name": "stderr"
        },
        {
          "output_type": "display_data",
          "data": {
            "image/png": "[encoded data removed]",
            "text/plain": [
              "<Figure size 432x288 with 1 Axes>"
            ]
          },
          "metadata": {
            "tags": [],
            "needs_background": "light"
          }
        }
      ]
    },
    {
      "cell_type": "markdown",
      "metadata": {
        "id": "61Q62uUcV6pU",
        "colab_type": "text"
      },
      "source": [
        "# TASK 3:  Compare K-Means Clustering and Hierarchical Agglomerative Clustering"
      ]
    },
    {
      "cell_type": "markdown",
      "metadata": {
        "id": "4UNHUZrkV6pV",
        "colab_type": "text"
      },
      "source": [
        "## Task 3-a: Visualize Clusters "
      ]
    },
    {
      "cell_type": "markdown",
      "metadata": {
        "id": "-gWVzcvGV6pV",
        "colab_type": "text"
      },
      "source": [
        "In this task, use whole dataset for training k-means cluster and hierarchical agglomerative clustering. Use the best model for agglomerative clustering. Visualize the predicted labels from k-means clustering and agglomerative clustering versus actual labels. Basically, you need to plot three scatter plots as subplots. "
      ]
    },
    {
      "cell_type": "code",
      "metadata": {
        "id": "tZgXjBe_V6pW",
        "colab_type": "code",
        "colab": {},
        "outputId": "360b83f2-b798-42bc-8f30-44f3c3226a5f"
      },
      "source": [
        "###################begin code for Task 3-a: Visualize the predicted training labels vs actual training labels\n",
        "\n",
        "### Kmeans Clustering\n",
        "# Model and fit the data to the Kmeans (use fit_predict : Performs clustering on X and returns cluster labels.)\n",
        "\n",
        "\n",
        "### Agglomerative Clustering\n",
        "# Calculate pairwise distance matrix for X\n",
        "\n",
        "# Model and fit the data to the Agglomerative (use fit_predict : Performs clustering on X and returns cluster labels.)\n",
        "\n",
        "\n",
        "### Visualize Clusters\n",
        "#  Model and fit the data to the PCA model\n",
        "X_pca = None\n",
        "\n",
        "# Visualize the predicted Kmeans labels versus  the predicted Agglomerative labels versus Actual labels. \n",
        "plt.plot( yp1 , y_pred__AE  , \"go\")\n",
        "\n",
        "###################end code for Task 3-a"
      ],
      "execution_count": 0,
      "outputs": [
        {
          "output_type": "execute_result",
          "data": {
            "text/plain": [
              "[<matplotlib.lines.Line2D at 0x20438710f28>]"
            ]
          },
          "metadata": {
            "tags": []
          },
          "execution_count": 178
        },
        {
          "output_type": "display_data",
          "data": {
            "image/png": "[encoded data removed]",
            "text/plain": [
              "<Figure size 432x288 with 1 Axes>"
            ]
          },
          "metadata": {
            "tags": [],
            "needs_background": "light"
          }
        }
      ]
    },
    {
      "cell_type": "markdown",
      "metadata": {
        "id": "9T0kkJKpV6pY",
        "colab_type": "text"
      },
      "source": [
        "## Task 3-b: Compare K-Means Clustering &  Hierarchical Agglomerative Clustering"
      ]
    },
    {
      "cell_type": "markdown",
      "metadata": {
        "id": "ZqlDKYtGV6pY",
        "colab_type": "text"
      },
      "source": [
        "Print out confusion matrices for kmeans and agglomerative clustering. Also, compare precision, recall, and F1-score for both model. Type your reasoning."
      ]
    },
    {
      "cell_type": "code",
      "metadata": {
        "id": "-g_-Xi8VV6pZ",
        "colab_type": "code",
        "colab": {},
        "outputId": "5a6226ca-ba92-49aa-bf5b-6e5984c0525c"
      },
      "source": [
        "###################begin code for Task 3-b\n",
        "from sklearn.metrics import accuracy_score\n",
        "print(cm(y_train,yp1))\n",
        "print(cm(y_train,y_pred__AE))\n",
        "print(metrics.classification_report(y_train,yp1))\n",
        "print(metrics.classification_report(y_train,y_pred__AE))\n",
        "print(accuracy_score(y_train,yp1))\n",
        "print(accuracy_score(y_train,y_pred__AE))\n",
        "###################end code for Task 3-b"
      ],
      "execution_count": 0,
      "outputs": [
        {
          "output_type": "stream",
          "text": [
            "[[  0   0]\n",
            " [660 659]]\n",
            "[[  0   0]\n",
            " [682 637]]\n",
            "              precision    recall  f1-score   support\n",
            "\n",
            "           0       0.00      0.00      0.00         0\n",
            "           1       1.00      0.50      0.67      1319\n",
            "\n",
            "    accuracy                           0.50      1319\n",
            "   macro avg       0.50      0.25      0.33      1319\n",
            "weighted avg       1.00      0.50      0.67      1319\n",
            "\n",
            "              precision    recall  f1-score   support\n",
            "\n",
            "           0       0.00      0.00      0.00         0\n",
            "           1       1.00      0.48      0.65      1319\n",
            "\n",
            "    accuracy                           0.48      1319\n",
            "   macro avg       0.50      0.24      0.33      1319\n",
            "weighted avg       1.00      0.48      0.65      1319\n",
            "\n",
            "0.49962092494313876\n",
            "0.4829416224412434\n"
          ],
          "name": "stdout"
        }
      ]
    },
    {
      "cell_type": "markdown",
      "metadata": {
        "id": "m0l9xJ_aV6pb",
        "colab_type": "text"
      },
      "source": [
        "## Grading "
      ]
    },
    {
      "cell_type": "markdown",
      "metadata": {
        "id": "q9gRn2ufV6pb",
        "colab_type": "text"
      },
      "source": [
        "<b>[05 points] Follow the Rules</b> \n",
        "\n",
        "\n",
        "<b>[45 points] Task 1:</b>  \n",
        "\n",
        "    [15 points] Task 1-a: Determine “k” value from the elbow method\n",
        "\n",
        "    [30 points] Task 1-b: Visualization for K-Means Clustering\n",
        "\n",
        "        [05 points] Task 1-b-1: Split the dataset \n",
        "    \n",
        "        [10 points] Task 1-b-2: Visualize the predicted training vs actual training labels \n",
        "    \n",
        "        [10 points] Task 1-b-3: Visualize the predicted testing vs actual testing labels\n",
        "    \n",
        "        [05 points] Task 1-b-4: Print out a confusion matrix\n",
        "    \n",
        "\n",
        "\n",
        "<b>[50 points] Task 2:</b>  \n",
        "\n",
        "    [35 points] Task 2-a: Find the best Hierarchical Agglomerative Clustering Model\n",
        "\n",
        "    [15 points] Task 2-b: Visualization for Hierarchical Agglomerative Clustering\n",
        "\n",
        "\n",
        "\n",
        "<b>[20 points] Task 3 (BONUS):</b> \n",
        "\n",
        "    Task 3-a: 10 points\n",
        "\n",
        "    Task 3-b: 10 points"
      ]
    }
  ]
}